{
 "cells": [
  {
   "cell_type": "markdown",
   "id": "88bb9a7d",
   "metadata": {},
   "source": [
    "Before you turn this problem in, make sure everything runs as expected. First, **restart the kernel** (in the menubar, select Kernel $\\rightarrow$ Restart) and then **run all cells** (in the menubar, select Cell $\\rightarrow$ Run All).\n",
    "\n",
    "Make sure you fill in any place that says `YOUR CODE HERE` or \"YOUR ANSWER HERE\", as well as your name and collaborators below:"
   ]
  },
  {
   "cell_type": "code",
   "execution_count": 1,
   "id": "b2ca2d6f",
   "metadata": {},
   "outputs": [],
   "source": [
    "NAME = \"Ilsa Qadir\"\n",
    "COLLABORATORS = \"N/A\""
   ]
  },
  {
   "cell_type": "markdown",
   "id": "d49f1254",
   "metadata": {},
   "source": [
    "---"
   ]
  },
  {
   "cell_type": "markdown",
   "id": "da09e61a-90b7-429f-9c79-c722b3e75e4e",
   "metadata": {},
   "source": [
    "## Predicting High-Risk Covid-19 Patients and Mortality Rates"
   ]
  },
  {
   "cell_type": "markdown",
   "id": "451ead53-019b-4aa8-bf4a-5384e2bfca80",
   "metadata": {},
   "source": [
    "### Create Dataframe"
   ]
  },
  {
   "cell_type": "code",
   "execution_count": null,
   "id": "5fd052c3-0d0f-46e3-9da0-db0813173726",
   "metadata": {},
   "outputs": [],
   "source": [
    "#For the github\n",
    "!unzip \"Conditions_Contributing_to_COVID-19_Deaths__by_State_and_Age__Provisional_2020-2023.csv.zip\""
   ]
  },
  {
   "cell_type": "code",
   "execution_count": 2,
   "id": "b62f22c2-7e01-4349-ac69-5c0ee8969a07",
   "metadata": {},
   "outputs": [
    {
     "data": {
      "text/plain": [
       "(621000, 14)"
      ]
     },
     "execution_count": 2,
     "metadata": {},
     "output_type": "execute_result"
    }
   ],
   "source": [
    "import pandas as pd\n",
    "import numpy as np\n",
    "\n",
    "df = pd.read_csv(\"Conditions_Contributing_to_COVID-19_Deaths__by_State_and_Age__Provisional_2020-2023.csv\")\n",
    "df.shape"
   ]
  },
  {
   "cell_type": "markdown",
   "id": "5eb6dcfb-1c88-469a-84a7-f7471bf2a290",
   "metadata": {},
   "source": [
    "### Clean Data"
   ]
  },
  {
   "cell_type": "code",
   "execution_count": 3,
   "id": "bd2cb935-9d8c-4ab6-b57f-5a3a71e13520",
   "metadata": {},
   "outputs": [
    {
     "name": "stdout",
     "output_type": "stream",
     "text": [
      "Missing Values Per Column:\n",
      "Data As Of                 0\n",
      "Start Date                 0\n",
      "End Date                   0\n",
      "Group                      0\n",
      "Year                   12420\n",
      "Month                  62100\n",
      "State                      0\n",
      "Condition Group            0\n",
      "Condition                  0\n",
      "ICD10_codes                0\n",
      "Age Group                  0\n",
      "COVID-19 Deaths       183449\n",
      "Number of Mentions    177577\n",
      "Flag                  437551\n",
      "dtype: int64\n"
     ]
    }
   ],
   "source": [
    "#Determine which columns have missing values\n",
    "missing_values = df.isnull().sum()  #Count missing values in each column\n",
    "print(\"Missing Values Per Column:\")\n",
    "print(missing_values)"
   ]
  },
  {
   "cell_type": "code",
   "execution_count": 4,
   "id": "86074a87-c4a3-46be-bfbd-219d22a85475",
   "metadata": {},
   "outputs": [],
   "source": [
    "df_cleaned = df.copy()\n",
    "#Fix Missing values in Covid-19 Deaths\n",
    "#We'll assume that there were no deaths and replace the missing values with 0\n",
    "df_cleaned['COVID-19 Deaths'] = df_cleaned['COVID-19 Deaths'].fillna(0)"
   ]
  },
  {
   "cell_type": "code",
   "execution_count": 5,
   "id": "8d3816d2-eac6-4840-b559-f20662b32cc2",
   "metadata": {},
   "outputs": [
    {
     "data": {
      "text/plain": [
       "(620117, 14)"
      ]
     },
     "execution_count": 5,
     "metadata": {},
     "output_type": "execute_result"
    }
   ],
   "source": [
    "#remove outliers\n",
    "from scipy.stats import zscore\n",
    "\n",
    "df_cleaned['Z-Score'] = zscore(df_cleaned['COVID-19 Deaths'])\n",
    "\n",
    "df_no_outliers = df_cleaned[np.abs(df_cleaned['Z-Score']) < 3 ] #make 3 the threshold\n",
    "\n",
    "#drop the column as it is no longer needed\n",
    "df_no_outliers = df_no_outliers.drop(columns=['Z-Score'])\n",
    "df_no_outliers.shape"
   ]
  },
  {
   "cell_type": "markdown",
   "id": "bf583f89-32bd-49df-8c18-d93d9c450694",
   "metadata": {},
   "source": [
    "### Convert Dataframe to Database"
   ]
  },
  {
   "cell_type": "code",
   "execution_count": 6,
   "id": "a8ab8a5e-e0a4-409d-9cd8-8429c8ab903c",
   "metadata": {},
   "outputs": [
    {
     "name": "stdout",
     "output_type": "stream",
     "text": [
      "Sample Data from Original Table:\n",
      "   Data As Of  Start Date    End Date     Group  Year Month          State  \\\n",
      "0  09/24/2023  01/01/2020  09/23/2023  By Total  None  None  United States   \n",
      "1  09/24/2023  01/01/2020  09/23/2023  By Total  None  None  United States   \n",
      "2  09/24/2023  01/01/2020  09/23/2023  By Total  None  None  United States   \n",
      "3  09/24/2023  01/01/2020  09/23/2023  By Total  None  None  United States   \n",
      "4  09/24/2023  01/01/2020  09/23/2023  By Total  None  None  United States   \n",
      "\n",
      "        Condition Group                           Condition ICD10_codes  \\\n",
      "0  Respiratory diseases             Influenza and pneumonia     J09-J18   \n",
      "1  Respiratory diseases             Influenza and pneumonia     J09-J18   \n",
      "2  Respiratory diseases             Influenza and pneumonia     J09-J18   \n",
      "3  Respiratory diseases  Chronic lower respiratory diseases     J40-J47   \n",
      "4  Respiratory diseases  Chronic lower respiratory diseases     J40-J47   \n",
      "\n",
      "    Age Group  COVID-19 Deaths  Number of Mentions  Flag  \n",
      "0        0-24           1569.0              1647.0  None  \n",
      "1       25-34           5804.0              6029.0  None  \n",
      "2  Not stated             12.0                12.0  None  \n",
      "3        0-24            207.0               212.0  None  \n",
      "4       25-34            459.0               465.0  None  \n"
     ]
    }
   ],
   "source": [
    "import sqlite3\n",
    "\n",
    "#Create Database\n",
    "db = 'my_database.db'\n",
    "conn = sqlite3.connect(db)\n",
    "\n",
    "#Create Table\n",
    "og_table = 'og_table' \n",
    "df_no_outliers.to_sql(og_table, conn, if_exists='replace', index=False)\n",
    "\n",
    "#Verify table\n",
    "result = pd.read_sql_query(f\"SELECT * FROM {og_table} LIMIT 5;\", conn)\n",
    "print(\"Sample Data from Original Table:\")\n",
    "print(result)"
   ]
  },
  {
   "cell_type": "markdown",
   "id": "30223008-8916-4b36-9345-c5280d25ed2e",
   "metadata": {},
   "source": [
    "### Create a Table with Relevant Columns"
   ]
  },
  {
   "cell_type": "code",
   "execution_count": 7,
   "id": "4c004beb-097c-4a3b-a229-bba831d81fc2",
   "metadata": {},
   "outputs": [],
   "source": [
    "#Remove 'All Ages' in the Age Groups column\n",
    "#Since it has all the COVID-19 deaths for a condition group, it will cause the model to be skewed.\n",
    "#Also remove 'Not stated' since we don't have enough information for that category\n",
    "\n",
    "query_2 = \"\"\" \n",
    "            DELETE FROM og_table\n",
    "            WHERE \"Age Group\" = 'All Ages' OR \"Age Group\" = 'Not stated';\n",
    "          \"\"\"\n",
    "conn.execute(query_2)\n",
    "conn.commit()"
   ]
  },
  {
   "cell_type": "code",
   "execution_count": 8,
   "id": "0bd487ee-1d89-40a7-b52b-57441484fa84",
   "metadata": {},
   "outputs": [
    {
     "name": "stdout",
     "output_type": "stream",
     "text": [
      "Sample Data from New Table:\n",
      "           State       Condition Group                            Condition  \\\n",
      "0  United States  Respiratory diseases              Influenza and pneumonia   \n",
      "1  United States  Respiratory diseases              Influenza and pneumonia   \n",
      "2  United States  Respiratory diseases   Chronic lower respiratory diseases   \n",
      "3  United States  Respiratory diseases   Chronic lower respiratory diseases   \n",
      "4  United States  Respiratory diseases   Chronic lower respiratory diseases   \n",
      "5  United States  Respiratory diseases   Chronic lower respiratory diseases   \n",
      "6  United States  Respiratory diseases  Adult respiratory distress syndrome   \n",
      "7  United States  Respiratory diseases  Adult respiratory distress syndrome   \n",
      "8  United States  Respiratory diseases  Adult respiratory distress syndrome   \n",
      "\n",
      "  Age Group  COVID-19 Deaths  \n",
      "0      0-24           1569.0  \n",
      "1     25-34           5804.0  \n",
      "2      0-24            207.0  \n",
      "3     25-34            459.0  \n",
      "4     35-44           1118.0  \n",
      "5     45-54           3286.0  \n",
      "6      0-24            485.0  \n",
      "7     25-34           1807.0  \n",
      "8     35-44           4728.0  \n"
     ]
    }
   ],
   "source": [
    "#Create Table with Relevant Columns\n",
    "#Condition Group, Age Group, and Covid-19 Deaths\n",
    "\n",
    "query = \"\"\"\n",
    "        SELECT \n",
    "            \"State\",\n",
    "            \"Condition Group\", \n",
    "            \"Condition\",\n",
    "            \"Age Group\", \n",
    "            \"COVID-19 Deaths\" \n",
    "        FROM og_table; \n",
    "        \"\"\"\n",
    "\n",
    "filtered_df = pd.read_sql_query(query, conn)\n",
    "\n",
    "new_table = \"filtered_table\"\n",
    "\n",
    "filtered_df.to_sql(new_table, conn, if_exists='replace', index=False)\n",
    "\n",
    "#Verify new table\n",
    "result = pd.read_sql_query(f\"SELECT * FROM {new_table} LIMIT 9;\", conn)\n",
    "\n",
    "\n",
    "print(\"Sample Data from New Table:\")\n",
    "print(result)"
   ]
  },
  {
   "cell_type": "markdown",
   "id": "cfd260d1-003f-4371-be25-3b55e9284922",
   "metadata": {},
   "source": [
    "## Visualize the Data"
   ]
  },
  {
   "cell_type": "markdown",
   "id": "5ebd2800-fa89-4a5b-bb2f-94d8d7cea2c8",
   "metadata": {},
   "source": [
    "### Plot Covid-19 Death Rates based on each Condition"
   ]
  },
  {
   "cell_type": "code",
   "execution_count": null,
   "id": "b04df3c9-f4fa-43f2-985b-6a7293a2c696",
   "metadata": {},
   "outputs": [],
   "source": [
    "import matplotlib.pyplot as plt\n",
    "import seaborn as sns\n",
    "\n",
    "#Group data by 'Condition Group' and sum 'COVID-19 Deaths'\n",
    "condition_deaths = filtered_df.groupby('Condition Group')['COVID-19 Deaths'].sum().reset_index()\n",
    "\n",
    "#Determine total number of Covid-19 deaths\n",
    "total_deaths = condition_deaths['COVID-19 Deaths'].sum()\n",
    "\n",
    "#Calculate Percentage\n",
    "condition_deaths['Death Percentage'] = (condition_deaths['COVID-19 Deaths'] / total_deaths) * 100\n",
    "\n",
    "condition_deaths_sorted = condition_deaths.sort_values(by='Death Percentage', ascending=False)\n",
    "\n",
    "#Plot data\n",
    "plt.figure(figsize=(10, 6))\n",
    "sns.barplot(x = 'Death Percentage', y = 'Condition Group', data=condition_deaths_sorted)\n",
    "\n",
    "#Set plot labels and title\n",
    "plt.title('COVID-19 Deaths by Condition Group', fontsize=16)\n",
    "plt.xlabel('COVID-19 Deaths (%)', fontsize=12)\n",
    "plt.ylabel('Condition Group', fontsize=12)\n",
    "\n",
    "#Show plot\n",
    "plt.show()"
   ]
  },
  {
   "cell_type": "markdown",
   "id": "6423f262-f3e8-4c6b-85c5-76d5a93e8de7",
   "metadata": {},
   "source": [
    "### Plot Covid-19 Death Rates based on Age Group"
   ]
  },
  {
   "cell_type": "code",
   "execution_count": 10,
   "id": "da58c5cf-2429-4775-b844-c9816d06bb4b",
   "metadata": {},
   "outputs": [
    {
     "data": {
      "image/png": "[encoded data removed]",
      "text/plain": [
       "<Figure size 800x500 with 1 Axes>"
      ]
     },
     "metadata": {},
     "output_type": "display_data"
    }
   ],
   "source": [
    "#Group data by 'Age Group' and sum 'COVID-19 Deaths'\n",
    "age_deaths = filtered_df.groupby('Age Group')['COVID-19 Deaths'].sum().reset_index()\n",
    "\n",
    "#Remove the 'All Ages' entry since it is unneccessary\n",
    "age_deaths_filtered = age_deaths[age_deaths['Age Group'] != 'All Ages'].copy()\n",
    "\n",
    "#Calculate the total deaths excluding 'All Ages'\n",
    "total_deaths_filtered = age_deaths['COVID-19 Deaths'].sum()\n",
    "\n",
    "#Calculate Percentage\n",
    "age_deaths_filtered['Death Percentage'] = (age_deaths['COVID-19 Deaths'] / total_deaths_filtered) * 100\n",
    "\n",
    "age_deaths_sorted = age_deaths_filtered.sort_values(by='Death Percentage', ascending=False)\n",
    "\n",
    "#Plot data\n",
    "plt.figure(figsize=(8, 5))\n",
    "sns.barplot(x = 'Death Percentage', y = 'Age Group', data=age_deaths_sorted)\n",
    "\n",
    "#Set plot labels and title\n",
    "plt.title('COVID-19 Deaths by Age Group', fontsize=16)\n",
    "plt.xlabel('COVID-19 Deaths (%)', fontsize=12)\n",
    "plt.ylabel('Age Group', fontsize=12)\n",
    "\n",
    "#Show plot\n",
    "plt.show()"
   ]
  },
  {
   "cell_type": "markdown",
   "id": "1b07f36d-b217-4d3c-91d5-cd3a5086c520",
   "metadata": {},
   "source": [
    "### Plot the relationship of Covid-19 Deaths by Age Groups and Condition Groups"
   ]
  },
  {
   "cell_type": "code",
   "execution_count": null,
   "id": "a755d55c-4c81-4759-a37c-db8f32ededb2",
   "metadata": {},
   "outputs": [],
   "source": [
    "# Group data by 'Age Group', 'Condition Group' and sum 'COVID-19 Deaths'\n",
    "condition_age_deaths = filtered_df.groupby(['Age Group', 'Condition Group'])['COVID-19 Deaths'].sum().reset_index()\n",
    "\n",
    "#Remove the 'All Ages' entry since it is unneccessary\n",
    "condition_age_deaths_filtered = condition_age_deaths[condition_age_deaths['Age Group'] != 'All Ages'].copy()\n",
    "\n",
    "# Pivot the data to create a table where Age Group is on rows, Condition Group on columns, and deaths as values\n",
    "pivot_data = condition_age_deaths_filtered.pivot(index='Age Group', columns='Condition Group', values='COVID-19 Deaths')\n",
    "\n",
    "# Plot a stacked bar plot\n",
    "pivot_data.plot(kind='bar', stacked=True, figsize=(10, 6))\n",
    "\n",
    "# Set labels and title\n",
    "plt.title('COVID-19 Deaths by Age Group and Condition Group', fontsize=16)\n",
    "plt.xlabel('Age Group', fontsize=12)\n",
    "plt.ylabel('COVID-19 Deaths', fontsize=12)\n",
    "\n",
    "# Show plot\n",
    "\n",
    "plt.xticks(rotation=45, ha='right')  # Rotate x-axis labels for better readability\n",
    "plt.legend(title='Condition Group', bbox_to_anchor=(1.05, 1), loc='upper left')  # Adjust legend\n",
    "plt.tight_layout()  # Adjust layout for better fit\n",
    "\n",
    "plt.show()\n"
   ]
  },
  {
   "cell_type": "markdown",
   "id": "df3faab0-2f8e-4b50-adf1-1b57d07b5956",
   "metadata": {},
   "source": [
    "## Create a Model"
   ]
  },
  {
   "cell_type": "markdown",
   "id": "e5ea841c-62b8-4f78-85f6-e8503815ca00",
   "metadata": {},
   "source": [
    "#### Use One-Hot Encoding on Age Group, Condition Group, Condition, and State"
   ]
  },
  {
   "cell_type": "code",
   "execution_count": 12,
   "id": "19d79bfd-ba40-493a-83bb-0b6fa41a8543",
   "metadata": {},
   "outputs": [
    {
     "data": {
      "text/html": [
       "<div>\n",
       "<style scoped>\n",
       "    .dataframe tbody tr th:only-of-type {\n",
       "        vertical-align: middle;\n",
       "    }\n",
       "\n",
       "    .dataframe tbody tr th {\n",
       "        vertical-align: top;\n",
       "    }\n",
       "\n",
       "    .dataframe thead th {\n",
       "        text-align: right;\n",
       "    }\n",
       "</style>\n",
       "<table border=\"1\" class=\"dataframe\">\n",
       "  <thead>\n",
       "    <tr style=\"text-align: right;\">\n",
       "      <th></th>\n",
       "      <th>Condition Group</th>\n",
       "      <th>COVID-19 Deaths</th>\n",
       "      <th>State_Alabama</th>\n",
       "      <th>State_Alaska</th>\n",
       "      <th>State_Arizona</th>\n",
       "      <th>State_Arkansas</th>\n",
       "      <th>State_California</th>\n",
       "      <th>State_Colorado</th>\n",
       "      <th>State_Connecticut</th>\n",
       "      <th>State_Delaware</th>\n",
       "      <th>...</th>\n",
       "      <th>Condition_Ischemic heart disease</th>\n",
       "      <th>Condition_Malignant neoplasms</th>\n",
       "      <th>Condition_Obesity</th>\n",
       "      <th>Condition_Other diseases of the circulatory system</th>\n",
       "      <th>Condition_Other diseases of the respiratory system</th>\n",
       "      <th>Condition_Renal failure</th>\n",
       "      <th>Condition_Respiratory arrest</th>\n",
       "      <th>Condition_Respiratory failure</th>\n",
       "      <th>Condition_Sepsis</th>\n",
       "      <th>Condition_Vascular and unspecified dementia</th>\n",
       "    </tr>\n",
       "  </thead>\n",
       "  <tbody>\n",
       "    <tr>\n",
       "      <th>0</th>\n",
       "      <td>Respiratory diseases</td>\n",
       "      <td>1569.0</td>\n",
       "      <td>0.0</td>\n",
       "      <td>0.0</td>\n",
       "      <td>0.0</td>\n",
       "      <td>0.0</td>\n",
       "      <td>0.0</td>\n",
       "      <td>0.0</td>\n",
       "      <td>0.0</td>\n",
       "      <td>0.0</td>\n",
       "      <td>...</td>\n",
       "      <td>0.0</td>\n",
       "      <td>0.0</td>\n",
       "      <td>0.0</td>\n",
       "      <td>0.0</td>\n",
       "      <td>0.0</td>\n",
       "      <td>0.0</td>\n",
       "      <td>0.0</td>\n",
       "      <td>0.0</td>\n",
       "      <td>0.0</td>\n",
       "      <td>0.0</td>\n",
       "    </tr>\n",
       "    <tr>\n",
       "      <th>1</th>\n",
       "      <td>Respiratory diseases</td>\n",
       "      <td>5804.0</td>\n",
       "      <td>0.0</td>\n",
       "      <td>0.0</td>\n",
       "      <td>0.0</td>\n",
       "      <td>0.0</td>\n",
       "      <td>0.0</td>\n",
       "      <td>0.0</td>\n",
       "      <td>0.0</td>\n",
       "      <td>0.0</td>\n",
       "      <td>...</td>\n",
       "      <td>0.0</td>\n",
       "      <td>0.0</td>\n",
       "      <td>0.0</td>\n",
       "      <td>0.0</td>\n",
       "      <td>0.0</td>\n",
       "      <td>0.0</td>\n",
       "      <td>0.0</td>\n",
       "      <td>0.0</td>\n",
       "      <td>0.0</td>\n",
       "      <td>0.0</td>\n",
       "    </tr>\n",
       "    <tr>\n",
       "      <th>2</th>\n",
       "      <td>Respiratory diseases</td>\n",
       "      <td>207.0</td>\n",
       "      <td>0.0</td>\n",
       "      <td>0.0</td>\n",
       "      <td>0.0</td>\n",
       "      <td>0.0</td>\n",
       "      <td>0.0</td>\n",
       "      <td>0.0</td>\n",
       "      <td>0.0</td>\n",
       "      <td>0.0</td>\n",
       "      <td>...</td>\n",
       "      <td>0.0</td>\n",
       "      <td>0.0</td>\n",
       "      <td>0.0</td>\n",
       "      <td>0.0</td>\n",
       "      <td>0.0</td>\n",
       "      <td>0.0</td>\n",
       "      <td>0.0</td>\n",
       "      <td>0.0</td>\n",
       "      <td>0.0</td>\n",
       "      <td>0.0</td>\n",
       "    </tr>\n",
       "    <tr>\n",
       "      <th>3</th>\n",
       "      <td>Respiratory diseases</td>\n",
       "      <td>459.0</td>\n",
       "      <td>0.0</td>\n",
       "      <td>0.0</td>\n",
       "      <td>0.0</td>\n",
       "      <td>0.0</td>\n",
       "      <td>0.0</td>\n",
       "      <td>0.0</td>\n",
       "      <td>0.0</td>\n",
       "      <td>0.0</td>\n",
       "      <td>...</td>\n",
       "      <td>0.0</td>\n",
       "      <td>0.0</td>\n",
       "      <td>0.0</td>\n",
       "      <td>0.0</td>\n",
       "      <td>0.0</td>\n",
       "      <td>0.0</td>\n",
       "      <td>0.0</td>\n",
       "      <td>0.0</td>\n",
       "      <td>0.0</td>\n",
       "      <td>0.0</td>\n",
       "    </tr>\n",
       "    <tr>\n",
       "      <th>4</th>\n",
       "      <td>Respiratory diseases</td>\n",
       "      <td>1118.0</td>\n",
       "      <td>0.0</td>\n",
       "      <td>0.0</td>\n",
       "      <td>0.0</td>\n",
       "      <td>0.0</td>\n",
       "      <td>0.0</td>\n",
       "      <td>0.0</td>\n",
       "      <td>0.0</td>\n",
       "      <td>0.0</td>\n",
       "      <td>...</td>\n",
       "      <td>0.0</td>\n",
       "      <td>0.0</td>\n",
       "      <td>0.0</td>\n",
       "      <td>0.0</td>\n",
       "      <td>0.0</td>\n",
       "      <td>0.0</td>\n",
       "      <td>0.0</td>\n",
       "      <td>0.0</td>\n",
       "      <td>0.0</td>\n",
       "      <td>0.0</td>\n",
       "    </tr>\n",
       "  </tbody>\n",
       "</table>\n",
       "<p>5 rows × 87 columns</p>\n",
       "</div>"
      ],
      "text/plain": [
       "        Condition Group  COVID-19 Deaths  State_Alabama  State_Alaska  \\\n",
       "0  Respiratory diseases           1569.0            0.0           0.0   \n",
       "1  Respiratory diseases           5804.0            0.0           0.0   \n",
       "2  Respiratory diseases            207.0            0.0           0.0   \n",
       "3  Respiratory diseases            459.0            0.0           0.0   \n",
       "4  Respiratory diseases           1118.0            0.0           0.0   \n",
       "\n",
       "   State_Arizona  State_Arkansas  State_California  State_Colorado  \\\n",
       "0            0.0             0.0               0.0             0.0   \n",
       "1            0.0             0.0               0.0             0.0   \n",
       "2            0.0             0.0               0.0             0.0   \n",
       "3            0.0             0.0               0.0             0.0   \n",
       "4            0.0             0.0               0.0             0.0   \n",
       "\n",
       "   State_Connecticut  State_Delaware  ...  Condition_Ischemic heart disease  \\\n",
       "0                0.0             0.0  ...                               0.0   \n",
       "1                0.0             0.0  ...                               0.0   \n",
       "2                0.0             0.0  ...                               0.0   \n",
       "3                0.0             0.0  ...                               0.0   \n",
       "4                0.0             0.0  ...                               0.0   \n",
       "\n",
       "   Condition_Malignant neoplasms  Condition_Obesity  \\\n",
       "0                            0.0                0.0   \n",
       "1                            0.0                0.0   \n",
       "2                            0.0                0.0   \n",
       "3                            0.0                0.0   \n",
       "4                            0.0                0.0   \n",
       "\n",
       "   Condition_Other diseases of the circulatory system  \\\n",
       "0                                                0.0    \n",
       "1                                                0.0    \n",
       "2                                                0.0    \n",
       "3                                                0.0    \n",
       "4                                                0.0    \n",
       "\n",
       "   Condition_Other diseases of the respiratory system  \\\n",
       "0                                                0.0    \n",
       "1                                                0.0    \n",
       "2                                                0.0    \n",
       "3                                                0.0    \n",
       "4                                                0.0    \n",
       "\n",
       "   Condition_Renal failure  Condition_Respiratory arrest  \\\n",
       "0                      0.0                           0.0   \n",
       "1                      0.0                           0.0   \n",
       "2                      0.0                           0.0   \n",
       "3                      0.0                           0.0   \n",
       "4                      0.0                           0.0   \n",
       "\n",
       "   Condition_Respiratory failure  Condition_Sepsis  \\\n",
       "0                            0.0               0.0   \n",
       "1                            0.0               0.0   \n",
       "2                            0.0               0.0   \n",
       "3                            0.0               0.0   \n",
       "4                            0.0               0.0   \n",
       "\n",
       "   Condition_Vascular and unspecified dementia  \n",
       "0                                          0.0  \n",
       "1                                          0.0  \n",
       "2                                          0.0  \n",
       "3                                          0.0  \n",
       "4                                          0.0  \n",
       "\n",
       "[5 rows x 87 columns]"
      ]
     },
     "execution_count": 12,
     "metadata": {},
     "output_type": "execute_result"
    }
   ],
   "source": [
    "from sklearn.preprocessing import OneHotEncoder\n",
    "\n",
    "categorical_cols = ['State', 'Age Group', 'Condition']\n",
    "\n",
    "encoder = OneHotEncoder(sparse_output = False)\n",
    "\n",
    "#Encode categorical columns\n",
    "encoded_data = encoder.fit_transform(filtered_df[categorical_cols])\n",
    "\n",
    "encoded_cols = encoder.get_feature_names_out(categorical_cols)\n",
    "encoded_df = pd.DataFrame(encoded_data, columns=encoded_cols)\n",
    "\n",
    "filtered_df.reset_index(drop=True, inplace=True)\n",
    "encoded_df = pd.concat([filtered_df, encoded_df], axis=1)\n",
    "\n",
    "#Drop original categorical columns\n",
    "encoded_df.drop(columns = categorical_cols, inplace=True)\n",
    "\n",
    "encoded_df.head()"
   ]
  },
  {
   "cell_type": "markdown",
   "id": "119fe1c5-f7c5-4ee9-b610-d0449203f10d",
   "metadata": {},
   "source": [
    "### Create a Random Forest Regressor Model based on States, Conditions, and Age Groups"
   ]
  },
  {
   "cell_type": "code",
   "execution_count": 13,
   "id": "c77bc721-5532-4e47-83aa-b6b6a186fdcd",
   "metadata": {},
   "outputs": [
    {
     "name": "stdout",
     "output_type": "stream",
     "text": [
      "Defaulting to user installation because normal site-packages is not writeable\n",
      "Requirement already satisfied: xgboost in /home/iq15/.local/lib/python3.12/site-packages (2.1.3)\n",
      "Requirement already satisfied: numpy in /usr/lib/anaconda3/lib/python3.12/site-packages (from xgboost) (1.26.4)\n",
      "Requirement already satisfied: nvidia-nccl-cu12 in /home/iq15/.local/lib/python3.12/site-packages (from xgboost) (2.21.5)\n",
      "Requirement already satisfied: scipy in /usr/lib/anaconda3/lib/python3.12/site-packages (from xgboost) (1.13.1)\n"
     ]
    }
   ],
   "source": [
    "!pip install xgboost"
   ]
  },
  {
   "cell_type": "code",
   "execution_count": 14,
   "id": "378802ed-d97c-4a4e-9f7f-405b304c9680",
   "metadata": {},
   "outputs": [],
   "source": [
    "from sklearn.model_selection import train_test_split\n",
    "#from sklearn.linear_model import LinearRegression\n",
    "from sklearn.preprocessing import StandardScaler\n",
    "#from sklearn.ensemble import RandomForestRegressor\n",
    "from xgboost import XGBRegressor\n",
    "\n",
    "X = encoded_df[encoded_cols]\n",
    "y = encoded_df['COVID-19 Deaths']\n",
    "\n",
    "scaler = StandardScaler()\n",
    "X_scaled = scaler.fit_transform(X)\n",
    "\n",
    "X_train, X_test, y_train, y_test = train_test_split(X_scaled, y, test_size=0.2, random_state=42)\n",
    "\n",
    "#model = LinearRegression()\n",
    "#model = RandomForestRegressor(n_estimators = 100, random_state = 42, max_depth = 15) \n",
    "\n",
    "model = XGBRegressor(n_estimators= 400, learning_rate= 0.1, random_state=42)\n",
    "\n",
    "model.fit(X_train, y_train)\n",
    "\n",
    "y_pred = model.predict(X_test)"
   ]
  },
  {
   "cell_type": "markdown",
   "id": "a7f81ec1-658e-4d70-90d6-80c3b7e74628",
   "metadata": {},
   "source": [
    "### Evaluate the Model"
   ]
  },
  {
   "cell_type": "code",
   "execution_count": 15,
   "id": "35083e48-7bb5-4cba-be33-992e00289e35",
   "metadata": {},
   "outputs": [
    {
     "name": "stdout",
     "output_type": "stream",
     "text": [
      "Mean Absolute Error: 42.08345026655249\n",
      "Mean Squared Error: 40811.67586399645\n",
      "R² score: 0.2314\n"
     ]
    }
   ],
   "source": [
    "from sklearn.metrics import mean_absolute_error, mean_squared_error, r2_score\n",
    "\n",
    "#Calculate MAE\n",
    "mae = mean_absolute_error(y_test, y_pred)\n",
    "print(f\"Mean Absolute Error: {mae}\")\n",
    "\n",
    "#Calculate MSE\n",
    "mse = mean_squared_error(y_test, y_pred)\n",
    "print(f\"Mean Squared Error: {mse}\")\n",
    "\n",
    "#Calculate R-squared\n",
    "r2 = r2_score(y_test, y_pred)\n",
    "print(f\"R² score: {r2:.4f}\")"
   ]
  },
  {
   "cell_type": "markdown",
   "id": "0a9f753c-4bb9-403d-b891-ab99575cee22",
   "metadata": {},
   "source": [
    "### Actual COVID-19 Deaths Vs. Predicted COVID-19 Deaths"
   ]
  },
  {
   "cell_type": "code",
   "execution_count": null,
   "id": "94da7c9c-6f4f-44fb-ab9a-eea4f1848194",
   "metadata": {},
   "outputs": [],
   "source": [
    "plt.scatter(y_pred, y_test, label = \"Actual vs Predicted\", alpha=0.6)\n",
    "\n",
    "#Line of best fit\n",
    "#Use polyfit to calculate the line of best fit\n",
    "coefficients = np.polyfit(y_pred, y_test, 1)\n",
    "line_of_best_fit = np.polyval(coefficients, y_pred)\n",
    "\n",
    "plt.plot(y_pred, line_of_best_fit, color='red', label=\"Line of Best Fit\")\n",
    "\n",
    "# Labels and title\n",
    "plt.xlabel(\"Predicted COVID-19 Deaths\")\n",
    "plt.ylabel(\"Actual COVID-19 Deaths\")\n",
    "plt.title(\"Actual vs Predicted COVID-19 Deaths with Line of Best Fit\")\n",
    "plt.legend()\n",
    "plt.show()"
   ]
  },
  {
   "cell_type": "markdown",
   "id": "eaa7af14-f21f-4786-b8b0-b52d9b6829b0",
   "metadata": {},
   "source": [
    "## Test the Model"
   ]
  },
  {
   "cell_type": "code",
   "execution_count": 17,
   "id": "3bc8e3b1-13a3-4a53-a7c4-9f9c217129b5",
   "metadata": {},
   "outputs": [
    {
     "name": "stdout",
     "output_type": "stream",
     "text": [
      "        State Age Group            Condition  Predicted Deaths\n",
      "0  New Jersey     65-74  Respiratory failure        125.371330\n",
      "1    New York     75-84        Heart failure         56.581532\n",
      "2    Virginia       85+             Diabetes         35.221424\n"
     ]
    }
   ],
   "source": [
    "test_cases = [\n",
    "    ['New Jersey','65-74', 'Respiratory failure'],\n",
    "    ['New York','75-84', 'Heart failure'],\n",
    "    ['Virginia','85+', 'Diabetes']\n",
    "]\n",
    "\n",
    "test_df = pd.DataFrame(test_cases, columns = ['State','Age Group','Condition'])\n",
    "\n",
    "test_categorical_cols = ['State', 'Age Group', 'Condition']\n",
    "\n",
    "test_encoder = OneHotEncoder(sparse_output = False, drop = 'first')\n",
    "\n",
    "test_encoded_data = encoder.fit_transform(test_df[test_categorical_cols])\n",
    "\n",
    "test_encoded_cols = encoder.get_feature_names_out(test_categorical_cols)\n",
    "test_encoded_df = pd.DataFrame(test_encoded_data, columns=test_encoded_cols)\n",
    "\n",
    "for col in X.columns:\n",
    "    if col not in test_encoded_df.columns:\n",
    "        test_encoded_df[col] = 0\n",
    "\n",
    "test_encoded_df = test_encoded_df[X.columns]\n",
    "test_scaled = scaler.transform(test_encoded_df)\n",
    "\n",
    "death_predictions = model.predict(test_scaled)\n",
    "results_df = pd.DataFrame(test_cases, columns = ['State','Age Group', 'Condition'])\n",
    "results_df['Predicted Deaths'] = death_predictions\n",
    "\n",
    "print(results_df)"
   ]
  },
  {
   "cell_type": "markdown",
   "id": "f3097a59-866a-4eaf-9310-2500271c0675",
   "metadata": {},
   "source": [
    "### Calculate Mortality Rate for Covid-19"
   ]
  },
  {
   "cell_type": "code",
   "execution_count": 18,
   "id": "ec3c0e99-40f0-4b66-891f-18607c43affa",
   "metadata": {},
   "outputs": [
    {
     "data": {
      "text/html": [
       "<div>\n",
       "<style scoped>\n",
       "    .dataframe tbody tr th:only-of-type {\n",
       "        vertical-align: middle;\n",
       "    }\n",
       "\n",
       "    .dataframe tbody tr th {\n",
       "        vertical-align: top;\n",
       "    }\n",
       "\n",
       "    .dataframe thead th {\n",
       "        text-align: right;\n",
       "    }\n",
       "</style>\n",
       "<table border=\"1\" class=\"dataframe\">\n",
       "  <thead>\n",
       "    <tr style=\"text-align: right;\">\n",
       "      <th></th>\n",
       "      <th>Age Group</th>\n",
       "      <th>Condition</th>\n",
       "      <th>Predicted Deaths</th>\n",
       "      <th>Total Deaths</th>\n",
       "      <th>Mortality Rate</th>\n",
       "    </tr>\n",
       "  </thead>\n",
       "  <tbody>\n",
       "    <tr>\n",
       "      <th>0</th>\n",
       "      <td>65-74</td>\n",
       "      <td>Respiratory failure</td>\n",
       "      <td>125.371330</td>\n",
       "      <td>10721.0</td>\n",
       "      <td>1.169400</td>\n",
       "    </tr>\n",
       "    <tr>\n",
       "      <th>1</th>\n",
       "      <td>75-84</td>\n",
       "      <td>Heart failure</td>\n",
       "      <td>56.581532</td>\n",
       "      <td>2347.0</td>\n",
       "      <td>2.410802</td>\n",
       "    </tr>\n",
       "    <tr>\n",
       "      <th>2</th>\n",
       "      <td>85+</td>\n",
       "      <td>Diabetes</td>\n",
       "      <td>35.221424</td>\n",
       "      <td>1386.0</td>\n",
       "      <td>2.541228</td>\n",
       "    </tr>\n",
       "  </tbody>\n",
       "</table>\n",
       "</div>"
      ],
      "text/plain": [
       "  Age Group            Condition  Predicted Deaths  Total Deaths  \\\n",
       "0     65-74  Respiratory failure        125.371330       10721.0   \n",
       "1     75-84        Heart failure         56.581532        2347.0   \n",
       "2       85+             Diabetes         35.221424        1386.0   \n",
       "\n",
       "   Mortality Rate  \n",
       "0        1.169400  \n",
       "1        2.410802  \n",
       "2        2.541228  "
      ]
     },
     "execution_count": 18,
     "metadata": {},
     "output_type": "execute_result"
    }
   ],
   "source": [
    "total_deaths_per_group = filtered_df.groupby(['State','Age Group','Condition'])['COVID-19 Deaths'].sum().reset_index()\n",
    "\n",
    "merged_results = pd.merge(results_df, total_deaths_per_group, on = ['State','Age Group', 'Condition'], how='left')\n",
    "merged_results.rename(columns={'COVID-19 Deaths': 'Total Deaths'}, inplace=True)\n",
    "\n",
    "#Calculate the percentage of deaths\n",
    "merged_results['Mortality Rate'] = (merged_results['Predicted Deaths'] / merged_results['Total Deaths']) * 100\n",
    "\n",
    "merged_results[['Age Group', 'Condition', 'Predicted Deaths', 'Total Deaths', 'Mortality Rate']]"
   ]
  },
  {
   "cell_type": "code",
   "execution_count": null,
   "id": "c08dd748-5201-4503-8a99-f19c3651fdea",
   "metadata": {},
   "outputs": [],
   "source": []
  }
 ],
 "metadata": {
  "kernelspec": {
   "display_name": "Python 3 (ipykernel)",
   "language": "python",
   "name": "python3"
  },
  "language_info": {
   "codemirror_mode": {
    "name": "ipython",
    "version": 3
   },
   "file_extension": ".py",
   "mimetype": "text/x-python",
   "name": "python",
   "nbconvert_exporter": "python",
   "pygments_lexer": "ipython3",
   "version": "3.12.2"
  }
 },
 "nbformat": 4,
 "nbformat_minor": 5
}
